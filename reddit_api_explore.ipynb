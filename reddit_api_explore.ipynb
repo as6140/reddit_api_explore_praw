{
 "cells": [
  {
   "cell_type": "code",
   "execution_count": 207,
   "metadata": {},
   "outputs": [
    {
     "name": "stdout",
     "output_type": "stream",
     "text": [
      "Requirement already satisfied: praw in /anaconda3/lib/python3.7/site-packages (6.2.0)\n",
      "Requirement already satisfied: prawcore<2.0,>=1.0.1 in /anaconda3/lib/python3.7/site-packages (from praw) (1.0.1)\n",
      "Requirement already satisfied: update-checker>=0.16 in /anaconda3/lib/python3.7/site-packages (from praw) (0.16)\n",
      "Requirement already satisfied: websocket-client>=0.54.0 in /anaconda3/lib/python3.7/site-packages (from praw) (0.56.0)\n",
      "Requirement already satisfied: requests<3.0,>=2.6.0 in /anaconda3/lib/python3.7/site-packages (from prawcore<2.0,>=1.0.1->praw) (2.21.0)\n",
      "Requirement already satisfied: six in /anaconda3/lib/python3.7/site-packages (from websocket-client>=0.54.0->praw) (1.12.0)\n",
      "Requirement already satisfied: chardet<3.1.0,>=3.0.2 in /anaconda3/lib/python3.7/site-packages (from requests<3.0,>=2.6.0->prawcore<2.0,>=1.0.1->praw) (3.0.4)\n",
      "Requirement already satisfied: urllib3<1.25,>=1.21.1 in /anaconda3/lib/python3.7/site-packages (from requests<3.0,>=2.6.0->prawcore<2.0,>=1.0.1->praw) (1.24.1)\n",
      "Requirement already satisfied: certifi>=2017.4.17 in /anaconda3/lib/python3.7/site-packages (from requests<3.0,>=2.6.0->prawcore<2.0,>=1.0.1->praw) (2018.11.29)\n",
      "Requirement already satisfied: idna<2.9,>=2.5 in /anaconda3/lib/python3.7/site-packages (from requests<3.0,>=2.6.0->prawcore<2.0,>=1.0.1->praw) (2.8)\n"
     ]
    }
   ],
   "source": [
    "#!pip install praw"
   ]
  },
  {
   "cell_type": "code",
   "execution_count": 208,
   "metadata": {},
   "outputs": [],
   "source": [
    "import json\n",
    "import requests\n",
    "\n",
    "# Load secrets from credentials.json\n",
    "url = 'https://www.reddit.com/'\n",
    "with open('/Users/flatironschool/.secrets/reddit_api_credentials.json') as f:\n",
    "    params = json.load(f)"
   ]
  },
  {
   "cell_type": "code",
   "execution_count": 209,
   "metadata": {},
   "outputs": [],
   "source": [
    "import praw"
   ]
  },
  {
   "cell_type": "code",
   "execution_count": 210,
   "metadata": {},
   "outputs": [],
   "source": [
    "import praw\n",
    "reddit = praw.Reddit(client_id=params['client_id'], \n",
    "                     client_secret=params['api_key'],\n",
    "                     password=params['password'], \n",
    "                     user_agent='github:github.com/as6140 exploreAPI:v0.0.1 (by /u/alexshrop)',\n",
    "                     username=params['username'])"
   ]
  },
  {
   "cell_type": "code",
   "execution_count": 211,
   "metadata": {},
   "outputs": [
    {
     "name": "stdout",
     "output_type": "stream",
     "text": [
      "False\n"
     ]
    }
   ],
   "source": [
    "print(reddit.read_only) #CONFIRM ABILITY TO GET AUTHORIZED REDDIT INSTANCES"
   ]
  },
  {
   "cell_type": "code",
   "execution_count": 212,
   "metadata": {},
   "outputs": [
    {
     "name": "stdout",
     "output_type": "stream",
     "text": [
      "soccer\n",
      "The back page of the internet \n",
      "Get your team crest [here.](https://www.reddit.com/r/soccer/wiki/flair)\n",
      "\n",
      "News, results and discussion about the beautiful game.\n",
      "\n",
      "* The [laws of the game](http://www.theifab.com/laws)\n",
      "* Follow [the rules of our community](/r/soccer/wiki/rules#wiki_community_rules)\n",
      "* Read the [FAQ](/r/soccer/wiki/faq) and [wiki](/r/soccer/wiki)\n",
      "* Our [submission guidelines](/r/soccer/wiki/rules#wiki_submission_guidelines)\n",
      "* Create a [match thread](/r/soccer/wiki/matchthreads) ([icons](/rerge)/[bars](/93ahy1))\n",
      "* Discover [related subreddits](/r/soccer/wiki/relatedsubreddits)\n",
      "* Question? [Message the mods](/message/compose?to=%2Fr%2Fsoccer)\n",
      "* Follow us on [Twitter](https://twitter.com/soccer_reddit)\n",
      "\n",
      "-\n",
      "\n",
      "####Quick links\n",
      "\n",
      "* [](#icon-read) [Read](/r/soccer/search?q=NOT+flair%3Amedia+AND+NOT+flair%3AMirror&restrict_sr=on&sort=hot&t=day&feature=legacy_search#res-hide-options)\n",
      "* [](#icon-media) [Watch](/r/soccer/search?q=flair%3Amedia+OR+flair%3AMirror&restrict_sr=on&sort=hot&t=day&feature=legacy_search#res-hide-options)\n",
      "* [](#icon-ball) [Match threads](/r/soccer/search?q=flair%3Amatch%2Bthread+AND+NOT+flair%3Apost+AND+NOT+flair%3Apre&restrict_sr=on&sort=new&t=day&feature=legacy_search#res-hide-options)\n",
      "* [](#icon-whistle) [Post match](/r/soccer/search?q=flair%3Apost%2Bmatch&restrict_sr=on&sort=new&t=week&feature=legacy_search#res-hide-options)\n",
      "* [](#icon-news) [Roundups](/r/soccer/search?q=flair%3Aroundup&sort=new&restrict_sr=on&t=week&feature=legacy_search#res-hide-options)\n",
      "* [](#icon-discuss) [Discussion](/r/soccer/search?q=author%3AAutoModerator&restrict_sr=on&sort=new&t=week&feature=legacy_search#res-hide-options)\n",
      "* [](#icon-star) [Star Posts](/r/soccer/search?q=flair%3Astar&sort=new&restrict_sr=on&t=week&feature=legacy_search#res-hide-options)\n",
      "\n",
      "#####Banners\n",
      "\n",
      "* [Torino players celebrate Andrea Belotti's spectacular bicycle kick winner in their 3-2 triumph over Sassuolo.](/bnslvx \"Torino players celebrate Andrea Belotti's spectacular bicycle kick winner in their 3-2 triumph over Sassuolo. ~ /u/stevenmadden\")\n",
      "\n",
      "* [Manchester City win the Premier League title with 98 points! They beat Brighton 4-1 in the last round.](/bns32i \"Manchester City win the Premier League title with 98 points! They beat Brighton 4-1 in the last round. ~ /u/stevenmadden\")\n",
      "\n",
      "* [Cristiano Ronaldo shows Alessandro Florenzi what he thinks of him during Juventus' 0-2 loss to AS Roma.](/bo0brb \"Cristiano Ronaldo shows Alessandro Florenzi what he thinks of him during Juventus' 0-2 loss to AS Roma. ~ /u/stevenmadden\")\n",
      "\n",
      "* [Ajax players & staff celebrate after winning the Eredivisie with 83 points! They beat Utrecht 4-1 in the last round.](/bns65i \"Ajax players & staff celebrate after winning the Eredivisie with 83 points! They beat Utrecht 4-1 in the last round. ~ /u/stevenmadden\")\n",
      "\n",
      "* [Crystal Palace club legend Julian Speroni says goodbye to South London after 15 years, 405 appearances and 112 clean sheets in an emotional goodbye](/bo7f6t \"Crystal Palace club legend Julian Speroni says goodbye to South London after 15 years, 405 appearances and 112 clean sheets in an emotional goodbye ~ /u/CrebTheBerc\")\n"
     ]
    }
   ],
   "source": [
    "# assume you have a Reddit instance bound to variable `reddit`\n",
    "subreddit = reddit.subreddit('soccer')\n",
    "\n",
    "print(subreddit.display_name)  # Output: redditdev\n",
    "print(subreddit.title)         # Output: reddit Development\n",
    "print(subreddit.description)   # Output: A subreddit for discussion of ..."
   ]
  },
  {
   "cell_type": "code",
   "execution_count": 213,
   "metadata": {},
   "outputs": [
    {
     "name": "stdout",
     "output_type": "stream",
     "text": [
      "Tactics Tuesday [2019-05-14]\n",
      "32\n",
      "boko0t\n",
      "https://www.reddit.com/r/soccer/comments/boko0t/tactics_tuesday_20190514/\n",
      "Daily Discussion [2019-05-14]\n",
      "36\n",
      "bokw55\n",
      "https://www.reddit.com/r/soccer/comments/bokw55/daily_discussion_20190514/\n",
      "Manchester City players singing a parody of the \"Allez Allez Allez\" chant after winning the league\n",
      "1964\n",
      "bojjnj\n",
      "https://twitter.com/YourMCFC/status/1128273265603039232?s=09\n",
      "Kevin De Bruyne to Pep Guardiola - \"You're a shit coach, you only win\"\n",
      "4060\n",
      "bogtif\n",
      "https://v.redd.it/sorvc29gf5y21\n",
      "Daniele De Rossi will officially leave Roma at the end of the season. 615 appearances, 65 goals. He will play his last game against Parma. Goodbye, Capitano Futuro.\n",
      "9195\n",
      "bofgvs\n",
      "https://www.asroma.com/en/news/2019/5/de-rossi-to-play-final-roma-match-against-parma\n",
      "Ronaldo: \"There are movement for many things. If you're black, if you're gay ... I do not remember anyone defending me when they called me fat.\"\n",
      "5145\n",
      "bog6cb\n",
      "https://www.marca.com/futbol/valladolid/2019/05/14/5cda7492ca4741913f8b457e.html\n",
      "Australian footballer Andrew Brennan comes out as gay\n",
      "2109\n",
      "boh09f\n",
      "https://www.instagram.com/p/Bxbvm2Xn5F8/?utm_source=ig_web_copy_link\n",
      "Son spent the majority of his time during Spurs' victory lap celebrating with his team-mates children\n",
      "2205\n",
      "boghs9\n",
      "https://twitter.com/MirrorFootball/status/1128224247648858112\n",
      "Thorgan Hazard will move to Dortmund for under €30m, Schulz will also move for €25m.\n",
      "991\n",
      "bohudw\n",
      "https://www.kicker.de/news/fussball/bundesliga/startseite/749171/artikel_wechsel-vor-abschluss_schulz-wird-dortmunder.amp.html?__twitter_impression=true\n",
      "Neymar pushes Phillippe Coutinho to join Paris Saint Germain.\n",
      "656\n",
      "boiqi1\n",
      "https://parisunited.fr/lequipe/le-mercato/neymar-pousse-pour-philippe-coutinho/\n"
     ]
    }
   ],
   "source": [
    "for submission in subreddit.hot(limit=10):\n",
    "    print(submission.title)  # Output: the submission's title\n",
    "    print(submission.score)  # Output: the submission's score\n",
    "    print(submission.id)     # Output: the submission's ID\n",
    "    print(submission.url)    # Output: the URL the submission points to\n",
    "                             # or the submission's URL if it's a self post\n",
    "        \n",
    "        \n",
    "#can sort through: controversial, gilded, hot, new, rising, top"
   ]
  },
  {
   "cell_type": "code",
   "execution_count": 214,
   "metadata": {},
   "outputs": [
    {
     "name": "stdout",
     "output_type": "stream",
     "text": [
      "Manchester United confident of beating Arsenal and Liverpool to Nicolas Pepe\n"
     ]
    }
   ],
   "source": [
    "# assume you have a Reddit instance bound to variable `reddit`\n",
    "submission = reddit.submission(id='bob7zq')\n",
    "print(submission.title)"
   ]
  },
  {
   "cell_type": "code",
   "execution_count": 215,
   "metadata": {},
   "outputs": [
    {
     "name": "stdout",
     "output_type": "stream",
     "text": [
      "RaspberryP1\n"
     ]
    }
   ],
   "source": [
    " # assume you have a Submission instance bound to variable `submission`\n",
    "redditor1 = submission.author\n",
    "print(redditor1.name)  # Output: name of the redditor"
   ]
  },
  {
   "cell_type": "code",
   "execution_count": 216,
   "metadata": {},
   "outputs": [
    {
     "data": {
      "text/plain": [
       "65263"
      ]
     },
     "execution_count": 216,
     "metadata": {},
     "output_type": "execute_result"
    }
   ],
   "source": [
    "# assume you have a Reddit instance bound to variable `reddit`\n",
    "redditor2 = reddit.redditor('iamnotinterested2')\n",
    "redditor2.link_karma  # Output: bboe's karma"
   ]
  },
  {
   "cell_type": "code",
   "execution_count": 217,
   "metadata": {},
   "outputs": [
    {
     "data": {
      "text/plain": [
       "40306"
      ]
     },
     "execution_count": 217,
     "metadata": {},
     "output_type": "execute_result"
    }
   ],
   "source": [
    "redditor2.comment_karma"
   ]
  },
  {
   "cell_type": "code",
   "execution_count": 218,
   "metadata": {},
   "outputs": [],
   "source": [
    "# assume you have a Reddit instance bound to variable `reddit`\n",
    "top_level_comments = list(submission.comments)\n",
    "all_comments = submission.comments.list()"
   ]
  },
  {
   "cell_type": "code",
   "execution_count": 219,
   "metadata": {},
   "outputs": [
    {
     "data": {
      "text/plain": [
       "[Comment(id='ene3b43'),\n",
       " Comment(id='ene3yob'),\n",
       " Comment(id='ene1mo8'),\n",
       " Comment(id='ene3hme'),\n",
       " Comment(id='ene1gwi'),\n",
       " Comment(id='ene27bt'),\n",
       " Comment(id='enej0pt'),\n",
       " Comment(id='eneo5ag'),\n",
       " Comment(id='ene8f5x'),\n",
       " Comment(id='enf13dg'),\n",
       " Comment(id='ene29az'),\n",
       " Comment(id='enf70uo'),\n",
       " Comment(id='enfv4vu'),\n",
       " Comment(id='ene2w91'),\n",
       " Comment(id='ene26ss'),\n",
       " Comment(id='ene8we1'),\n",
       " Comment(id='enf5qdv')]"
      ]
     },
     "execution_count": 219,
     "metadata": {},
     "output_type": "execute_result"
    }
   ],
   "source": [
    "top_level_comments"
   ]
  },
  {
   "cell_type": "code",
   "execution_count": 220,
   "metadata": {},
   "outputs": [
    {
     "data": {
      "text/plain": [
       "[Comment(id='ene3b43'),\n",
       " Comment(id='ene3yob'),\n",
       " Comment(id='ene1mo8'),\n",
       " Comment(id='ene3hme'),\n",
       " Comment(id='ene1gwi'),\n",
       " Comment(id='ene27bt'),\n",
       " Comment(id='enej0pt'),\n",
       " Comment(id='eneo5ag'),\n",
       " Comment(id='ene8f5x'),\n",
       " Comment(id='enf13dg'),\n",
       " Comment(id='ene29az'),\n",
       " Comment(id='enf70uo'),\n",
       " Comment(id='enfv4vu'),\n",
       " Comment(id='ene2w91'),\n",
       " Comment(id='ene26ss'),\n",
       " Comment(id='ene8we1'),\n",
       " Comment(id='enf5qdv'),\n",
       " Comment(id='ene773p'),\n",
       " Comment(id='enegy3y'),\n",
       " Comment(id='enej9p9'),\n",
       " Comment(id='eneub6o'),\n",
       " Comment(id='enfa2p4'),\n",
       " Comment(id='ene5stu'),\n",
       " Comment(id='ene4888'),\n",
       " Comment(id='enebbqp'),\n",
       " Comment(id='ene3fwn'),\n",
       " Comment(id='ened863'),\n",
       " Comment(id='ene6obn'),\n",
       " Comment(id='eneep67'),\n",
       " Comment(id='ene2gzw'),\n",
       " Comment(id='enfnrtp'),\n",
       " Comment(id='eneier9'),\n",
       " Comment(id='enfex61'),\n",
       " Comment(id='enermp4'),\n",
       " Comment(id='enf14mb'),\n",
       " Comment(id='enepuv1'),\n",
       " Comment(id='enfj93r'),\n",
       " Comment(id='eneurjw'),\n",
       " Comment(id='enfe4nz'),\n",
       " Comment(id='ene6xwu'),\n",
       " Comment(id='ene3zel'),\n",
       " Comment(id='ene9rtd'),\n",
       " Comment(id='enef4qc'),\n",
       " Comment(id='enfnxzi'),\n",
       " Comment(id='enfpcvd'),\n",
       " Comment(id='enerw80'),\n",
       " Comment(id='enflkkq'),\n",
       " Comment(id='engnira'),\n",
       " Comment(id='engmajw'),\n",
       " Comment(id='enfx1og'),\n",
       " Comment(id='enf7jv3'),\n",
       " Comment(id='enefk4x'),\n",
       " Comment(id='enfrqk9'),\n",
       " Comment(id='enesvg8'),\n",
       " Comment(id='engqe6t'),\n",
       " Comment(id='enht0w2'),\n",
       " Comment(id='enf89lt'),\n",
       " Comment(id='enefqtr'),\n",
       " Comment(id='enf1wkl'),\n",
       " Comment(id='enegptr'),\n",
       " Comment(id='enfm2ou'),\n",
       " Comment(id='enehiw2'),\n",
       " Comment(id='enfo9nf'),\n",
       " Comment(id='enelcx4')]"
      ]
     },
     "execution_count": 220,
     "metadata": {},
     "output_type": "execute_result"
    }
   ],
   "source": [
    "all_comments"
   ]
  },
  {
   "cell_type": "code",
   "execution_count": 221,
   "metadata": {},
   "outputs": [
    {
     "name": "stdout",
     "output_type": "stream",
     "text": [
      "#Comments:63\n",
      "#Upvotes:38\n"
     ]
    }
   ],
   "source": [
    "# assume you have a Reddit instance bound to variable `reddit`\n",
    "print(f\"#Comments:{submission.num_comments}\")\n",
    "print(f\"#Upvotes:{submission.score}\")"
   ]
  },
  {
   "cell_type": "code",
   "execution_count": 222,
   "metadata": {},
   "outputs": [
    {
     "data": {
      "text/plain": [
       "1471716"
      ]
     },
     "execution_count": 222,
     "metadata": {},
     "output_type": "execute_result"
    }
   ],
   "source": [
    "subreddit.subscribers"
   ]
  },
  {
   "cell_type": "code",
   "execution_count": 223,
   "metadata": {},
   "outputs": [
    {
     "data": {
      "text/plain": [
       "38"
      ]
     },
     "execution_count": 223,
     "metadata": {},
     "output_type": "execute_result"
    }
   ],
   "source": [
    "submission.score"
   ]
  },
  {
   "cell_type": "code",
   "execution_count": 224,
   "metadata": {},
   "outputs": [
    {
     "name": "stdout",
     "output_type": "stream",
     "text": [
      "26419\n",
      "5953\n"
     ]
    }
   ],
   "source": [
    "r_num_comments = []\n",
    "r_num_upvotes = []\n",
    "for submission in subreddit.hot(limit=10):\n",
    "    r_num_upvotes.append(submission.score)\n",
    "    r_num_comments.append(submission.num_comments)\n",
    "\n",
    "print(sum(r_num_upvotes))\n",
    "print(sum(r_num_comments))\n",
    "\n",
    "\n"
   ]
  },
  {
   "cell_type": "markdown",
   "metadata": {},
   "source": [
    "### AMA Subreddit EDA"
   ]
  },
  {
   "cell_type": "code",
   "execution_count": 225,
   "metadata": {
    "scrolled": false
   },
   "outputs": [
    {
     "name": "stdout",
     "output_type": "stream",
     "text": [
      "iama\n",
      "I Am A, where the mundane becomes fascinating and the outrageous suddenly seems normal.\n"
     ]
    }
   ],
   "source": [
    "subreddit = reddit.subreddit('iama')\n",
    "\n",
    "print(subreddit.display_name)  # Output: redditdev\n",
    "print(subreddit.title)         # Output: reddit Development\n",
    "#print(subreddit.description)"
   ]
  },
  {
   "cell_type": "code",
   "execution_count": 226,
   "metadata": {},
   "outputs": [
    {
     "data": {
      "text/html": [
       "<div>\n",
       "<style scoped>\n",
       "    .dataframe tbody tr th:only-of-type {\n",
       "        vertical-align: middle;\n",
       "    }\n",
       "\n",
       "    .dataframe tbody tr th {\n",
       "        vertical-align: top;\n",
       "    }\n",
       "\n",
       "    .dataframe thead th {\n",
       "        text-align: right;\n",
       "    }\n",
       "</style>\n",
       "<table border=\"1\" class=\"dataframe\">\n",
       "  <thead>\n",
       "    <tr style=\"text-align: right;\">\n",
       "      <th></th>\n",
       "    </tr>\n",
       "  </thead>\n",
       "  <tbody>\n",
       "  </tbody>\n",
       "</table>\n",
       "</div>"
      ],
      "text/plain": [
       "Empty DataFrame\n",
       "Columns: []\n",
       "Index: []"
      ]
     },
     "execution_count": 226,
     "metadata": {},
     "output_type": "execute_result"
    }
   ],
   "source": [
    "import pandas as pd\n",
    "ama_df = pd.DataFrame()\n",
    "ama_df.head()"
   ]
  },
  {
   "cell_type": "code",
   "execution_count": 227,
   "metadata": {},
   "outputs": [
    {
     "name": "stdout",
     "output_type": "stream",
     "text": [
      "20873024\n",
      "2986468\n"
     ]
    }
   ],
   "source": [
    "for submission in subreddit.top(limit=1000):\n",
    "    r_num_upvotes.append(submission.score)\n",
    "    r_num_comments.append(submission.num_comments)\n",
    "\n",
    "print(sum(r_num_upvotes))\n",
    "print(sum(r_num_comments))"
   ]
  },
  {
   "cell_type": "code",
   "execution_count": 230,
   "metadata": {},
   "outputs": [
    {
     "name": "stdout",
     "output_type": "stream",
     "text": [
      "5 submissions completed\n",
      "10 submissions completed\n",
      "15 submissions completed\n",
      "20 submissions completed\n",
      "25 submissions completed\n",
      "30 submissions completed\n",
      "35 submissions completed\n",
      "40 submissions completed\n",
      "45 submissions completed\n",
      "50 submissions completed\n",
      "55 submissions completed\n",
      "60 submissions completed\n",
      "65 submissions completed\n",
      "70 submissions completed\n",
      "75 submissions completed\n",
      "80 submissions completed\n",
      "85 submissions completed\n",
      "90 submissions completed\n",
      "95 submissions completed\n",
      "100 submissions completed\n",
      "105 submissions completed\n",
      "110 submissions completed\n",
      "115 submissions completed\n",
      "120 submissions completed\n",
      "125 submissions completed\n",
      "130 submissions completed\n",
      "135 submissions completed\n",
      "140 submissions completed\n",
      "145 submissions completed\n",
      "150 submissions completed\n",
      "155 submissions completed\n",
      "160 submissions completed\n",
      "165 submissions completed\n",
      "170 submissions completed\n",
      "175 submissions completed\n",
      "180 submissions completed\n",
      "185 submissions completed\n",
      "190 submissions completed\n",
      "195 submissions completed\n",
      "200 submissions completed\n"
     ]
    }
   ],
   "source": [
    "ama_title = []\n",
    "time = []\n",
    "num_upvotes = []\n",
    "num_comments = []\n",
    "upvote_ratio = []\n",
    "link_flair = []\n",
    "redditor = []\n",
    "i=0\n",
    "\n",
    "for submission in subreddit.top(limit=200):\n",
    "    i+=1\n",
    "    ama_title.append(submission.title)\n",
    "    time.append(submission.created_utc)\n",
    "    num_upvotes.append(submission.score)\n",
    "    num_comments.append(submission.num_comments)\n",
    "    upvote_ratio.append(submission.upvote_ratio)\n",
    "    link_flair.append(submission.link_flair_text)\n",
    "    redditor.append(submission.author)\n",
    "    if i%5 == 0:\n",
    "        print(f'{i} submissions completed')"
   ]
  },
  {
   "cell_type": "code",
   "execution_count": 231,
   "metadata": {},
   "outputs": [],
   "source": [
    "    \n",
    "ama_df = pd.DataFrame(\n",
    "    {'ama_title': ama_title,\n",
    "     'time': time,\n",
    "     'num_comments': num_comments,\n",
    "     'num_upvotes': num_upvotes,\n",
    "     'upvote_ratio': upvote_ratio,\n",
    "     'link_flair': link_flair,\n",
    "     'redditor': redditor\n",
    "    })"
   ]
  },
  {
   "cell_type": "code",
   "execution_count": 232,
   "metadata": {},
   "outputs": [
    {
     "data": {
      "text/html": [
       "<div>\n",
       "<style scoped>\n",
       "    .dataframe tbody tr th:only-of-type {\n",
       "        vertical-align: middle;\n",
       "    }\n",
       "\n",
       "    .dataframe tbody tr th {\n",
       "        vertical-align: top;\n",
       "    }\n",
       "\n",
       "    .dataframe thead th {\n",
       "        text-align: right;\n",
       "    }\n",
       "</style>\n",
       "<table border=\"1\" class=\"dataframe\">\n",
       "  <thead>\n",
       "    <tr style=\"text-align: right;\">\n",
       "      <th></th>\n",
       "      <th>ama_title</th>\n",
       "      <th>time</th>\n",
       "      <th>num_comments</th>\n",
       "      <th>num_upvotes</th>\n",
       "      <th>upvote_ratio</th>\n",
       "      <th>link_flair</th>\n",
       "      <th>redditor</th>\n",
       "    </tr>\n",
       "  </thead>\n",
       "  <tbody>\n",
       "    <tr>\n",
       "      <th>0</th>\n",
       "      <td>I am Barack Obama, President of the United Sta...</td>\n",
       "      <td>1.346270e+09</td>\n",
       "      <td>23238</td>\n",
       "      <td>216150</td>\n",
       "      <td>0.68</td>\n",
       "      <td></td>\n",
       "      <td>PresidentObama</td>\n",
       "    </tr>\n",
       "    <tr>\n",
       "      <th>1</th>\n",
       "      <td>Protect Net Neutrality. Save the Internet.</td>\n",
       "      <td>1.511329e+09</td>\n",
       "      <td>2750</td>\n",
       "      <td>201643</td>\n",
       "      <td>0.88</td>\n",
       "      <td>None</td>\n",
       "      <td>root_su</td>\n",
       "    </tr>\n",
       "    <tr>\n",
       "      <th>2</th>\n",
       "      <td>[AMA Request] Victoria, ex-AMA mod</td>\n",
       "      <td>1.435945e+09</td>\n",
       "      <td>2821</td>\n",
       "      <td>126769</td>\n",
       "      <td>0.81</td>\n",
       "      <td></td>\n",
       "      <td>korantano</td>\n",
       "    </tr>\n",
       "    <tr>\n",
       "      <th>3</th>\n",
       "      <td>FCC just voted to kill Net Neutrality. Now we ...</td>\n",
       "      <td>1.513275e+09</td>\n",
       "      <td>2655</td>\n",
       "      <td>121800</td>\n",
       "      <td>0.79</td>\n",
       "      <td>Nonprofit</td>\n",
       "      <td>FPGauravLaroia</td>\n",
       "    </tr>\n",
       "    <tr>\n",
       "      <th>4</th>\n",
       "      <td>I’m American citizen, undecided voter, loving ...</td>\n",
       "      <td>1.476408e+09</td>\n",
       "      <td>16947</td>\n",
       "      <td>116916</td>\n",
       "      <td>0.87</td>\n",
       "      <td>Politics</td>\n",
       "      <td>StanGibson18</td>\n",
       "    </tr>\n",
       "    <tr>\n",
       "      <th>5</th>\n",
       "      <td>I’m Bill Gates, co-chair of the Bill &amp; Melinda...</td>\n",
       "      <td>1.551116e+09</td>\n",
       "      <td>19904</td>\n",
       "      <td>108656</td>\n",
       "      <td>0.78</td>\n",
       "      <td>Nonprofit</td>\n",
       "      <td>thisisbillgates</td>\n",
       "    </tr>\n",
       "    <tr>\n",
       "      <th>6</th>\n",
       "      <td>I’m Bill Gates, co-chair of the Bill &amp; Melinda...</td>\n",
       "      <td>1.519757e+09</td>\n",
       "      <td>19478</td>\n",
       "      <td>105334</td>\n",
       "      <td>0.85</td>\n",
       "      <td>Nonprofit</td>\n",
       "      <td>thisisbillgates</td>\n",
       "    </tr>\n",
       "    <tr>\n",
       "      <th>7</th>\n",
       "      <td>I am Leah Remini, Ask Me Anything about Scient...</td>\n",
       "      <td>1.480439e+09</td>\n",
       "      <td>17879</td>\n",
       "      <td>97726</td>\n",
       "      <td>0.90</td>\n",
       "      <td>Actor / Entertainer</td>\n",
       "      <td>TheRealLeahRemini</td>\n",
       "    </tr>\n",
       "    <tr>\n",
       "      <th>8</th>\n",
       "      <td>I’m Bill Gates, co-chair of the Bill &amp; Melinda...</td>\n",
       "      <td>1.488213e+09</td>\n",
       "      <td>16625</td>\n",
       "      <td>97549</td>\n",
       "      <td>0.85</td>\n",
       "      <td>Nonprofit</td>\n",
       "      <td>thisisbillgates</td>\n",
       "    </tr>\n",
       "    <tr>\n",
       "      <th>9</th>\n",
       "      <td>I am Senator Bernie Sanders. Ask Me Anything!</td>\n",
       "      <td>1.541180e+09</td>\n",
       "      <td>15482</td>\n",
       "      <td>96466</td>\n",
       "      <td>0.70</td>\n",
       "      <td>Politics</td>\n",
       "      <td>bernie-sanders</td>\n",
       "    </tr>\n",
       "  </tbody>\n",
       "</table>\n",
       "</div>"
      ],
      "text/plain": [
       "                                           ama_title          time  \\\n",
       "0  I am Barack Obama, President of the United Sta...  1.346270e+09   \n",
       "1         Protect Net Neutrality. Save the Internet.  1.511329e+09   \n",
       "2                 [AMA Request] Victoria, ex-AMA mod  1.435945e+09   \n",
       "3  FCC just voted to kill Net Neutrality. Now we ...  1.513275e+09   \n",
       "4  I’m American citizen, undecided voter, loving ...  1.476408e+09   \n",
       "5  I’m Bill Gates, co-chair of the Bill & Melinda...  1.551116e+09   \n",
       "6  I’m Bill Gates, co-chair of the Bill & Melinda...  1.519757e+09   \n",
       "7  I am Leah Remini, Ask Me Anything about Scient...  1.480439e+09   \n",
       "8  I’m Bill Gates, co-chair of the Bill & Melinda...  1.488213e+09   \n",
       "9      I am Senator Bernie Sanders. Ask Me Anything!  1.541180e+09   \n",
       "\n",
       "   num_comments  num_upvotes  upvote_ratio           link_flair  \\\n",
       "0         23238       216150          0.68                        \n",
       "1          2750       201643          0.88                 None   \n",
       "2          2821       126769          0.81                        \n",
       "3          2655       121800          0.79            Nonprofit   \n",
       "4         16947       116916          0.87             Politics   \n",
       "5         19904       108656          0.78            Nonprofit   \n",
       "6         19478       105334          0.85            Nonprofit   \n",
       "7         17879        97726          0.90  Actor / Entertainer   \n",
       "8         16625        97549          0.85            Nonprofit   \n",
       "9         15482        96466          0.70             Politics   \n",
       "\n",
       "            redditor  \n",
       "0     PresidentObama  \n",
       "1            root_su  \n",
       "2          korantano  \n",
       "3     FPGauravLaroia  \n",
       "4       StanGibson18  \n",
       "5    thisisbillgates  \n",
       "6    thisisbillgates  \n",
       "7  TheRealLeahRemini  \n",
       "8    thisisbillgates  \n",
       "9     bernie-sanders  "
      ]
     },
     "execution_count": 232,
     "metadata": {},
     "output_type": "execute_result"
    }
   ],
   "source": [
    "ama_df.head(10)"
   ]
  },
  {
   "cell_type": "code",
   "execution_count": 233,
   "metadata": {},
   "outputs": [
    {
     "name": "stdout",
     "output_type": "stream",
     "text": [
      "<class 'pandas.core.frame.DataFrame'>\n",
      "RangeIndex: 200 entries, 0 to 199\n",
      "Data columns (total 7 columns):\n",
      "ama_title       200 non-null object\n",
      "time            200 non-null float64\n",
      "num_comments    200 non-null int64\n",
      "num_upvotes     200 non-null int64\n",
      "upvote_ratio    200 non-null float64\n",
      "link_flair      197 non-null object\n",
      "redditor        199 non-null object\n",
      "dtypes: float64(2), int64(2), object(3)\n",
      "memory usage: 11.0+ KB\n"
     ]
    }
   ],
   "source": [
    "ama_df.info()"
   ]
  },
  {
   "cell_type": "code",
   "execution_count": 234,
   "metadata": {},
   "outputs": [
    {
     "data": {
      "text/plain": [
       "0            PresidentObama\n",
       "5           thisisbillgates\n",
       "6           thisisbillgates\n",
       "7         TheRealLeahRemini\n",
       "4              StanGibson18\n",
       "37        AnatoleKonstantin\n",
       "8           thisisbillgates\n",
       "22           ronda_rousey87\n",
       "9            bernie-sanders\n",
       "162                  swikil\n",
       "54           _JulianAssange\n",
       "86          Robert_DowneyJr\n",
       "178            helloiamCLAY\n",
       "36          thisisbillgates\n",
       "20     Ihaveanotheridentity\n",
       "Name: redditor, dtype: object"
      ]
     },
     "execution_count": 234,
     "metadata": {},
     "output_type": "execute_result"
    }
   ],
   "source": [
    "ama_df = ama_df.sort_values(by='num_comments',ascending=False)\n",
    "ama_df['redditor'][:15]"
   ]
  },
  {
   "cell_type": "code",
   "execution_count": 235,
   "metadata": {},
   "outputs": [
    {
     "name": "stderr",
     "output_type": "stream",
     "text": [
      "/anaconda3/envs/learn-env/lib/python3.6/site-packages/scipy/stats/stats.py:1713: FutureWarning: Using a non-tuple sequence for multidimensional indexing is deprecated; use `arr[tuple(seq)]` instead of `arr[seq]`. In the future this will be interpreted as an array index, `arr[np.array(seq)]`, which will result either in an error or a different result.\n",
      "  return np.add.reduce(sorted[indexer] * weights, axis=axis) / sumval\n"
     ]
    },
    {
     "data": {
      "image/png": "[encoded data removed]",
      "text/plain": [
       "<Figure size 1008x360 with 1 Axes>"
      ]
     },
     "metadata": {},
     "output_type": "display_data"
    }
   ],
   "source": [
    "import matplotlib.pyplot as plt\n",
    "%matplotlib inline\n",
    "import seaborn as sns\n",
    "\n",
    "\n",
    "sns.set(rc={'figure.figsize':(14,5)})\n",
    "ax = sns.barplot(y=ama_df['num_comments'], x=ama_df['redditor'][:12], data=ama_df, \n",
    "                 palette=\"Blues_d\").set_title('Most Commented AMA Discussions');\n",
    "plt.xticks(rotation=45);"
   ]
  },
  {
   "cell_type": "code",
   "execution_count": 236,
   "metadata": {},
   "outputs": [
    {
     "name": "stderr",
     "output_type": "stream",
     "text": [
      "/anaconda3/envs/learn-env/lib/python3.6/site-packages/scipy/stats/stats.py:1713: FutureWarning: Using a non-tuple sequence for multidimensional indexing is deprecated; use `arr[tuple(seq)]` instead of `arr[seq]`. In the future this will be interpreted as an array index, `arr[np.array(seq)]`, which will result either in an error or a different result.\n",
      "  return np.add.reduce(sorted[indexer] * weights, axis=axis) / sumval\n"
     ]
    },
    {
     "data": {
      "image/png": "[encoded data removed]",
      "text/plain": [
       "<Figure size 1008x360 with 1 Axes>"
      ]
     },
     "metadata": {},
     "output_type": "display_data"
    }
   ],
   "source": [
    "ama_df = ama_df.sort_values(by='num_upvotes',ascending=False)\n",
    "sns.set(rc={'figure.figsize':(14,5)})\n",
    "ax = sns.barplot(y=ama_df['num_upvotes'], x=ama_df['redditor'][:12], data=ama_df, \n",
    "                 palette=\"Blues_d\").set_title('Most Upvoted AMA Discussions');\n",
    "plt.xticks(rotation=45);"
   ]
  },
  {
   "cell_type": "code",
   "execution_count": 237,
   "metadata": {},
   "outputs": [
    {
     "data": {
      "image/png": "[encoded data removed]",
      "text/plain": [
       "<Figure size 1008x360 with 1 Axes>"
      ]
     },
     "metadata": {},
     "output_type": "display_data"
    }
   ],
   "source": [
    "ama_df = ama_df.sort_values(by='upvote_ratio',ascending=False)\n",
    "sns.set(rc={'figure.figsize':(14,5)})\n",
    "\n",
    "ax = sns.barplot(y=ama_df['upvote_ratio'], x=ama_df['redditor'][:10], data=ama_df, \n",
    "                 palette=\"Blues_d\").set_title('Most Positive AMA Discussions');\n",
    "plt.ylim((0.8, 1));\n",
    "\n",
    "plt.xticks(rotation=45);"
   ]
  },
  {
   "cell_type": "code",
   "execution_count": 238,
   "metadata": {},
   "outputs": [
    {
     "data": {
      "text/html": [
       "<div>\n",
       "<style scoped>\n",
       "    .dataframe tbody tr th:only-of-type {\n",
       "        vertical-align: middle;\n",
       "    }\n",
       "\n",
       "    .dataframe tbody tr th {\n",
       "        vertical-align: top;\n",
       "    }\n",
       "\n",
       "    .dataframe thead th {\n",
       "        text-align: right;\n",
       "    }\n",
       "</style>\n",
       "<table border=\"1\" class=\"dataframe\">\n",
       "  <thead>\n",
       "    <tr style=\"text-align: right;\">\n",
       "      <th></th>\n",
       "      <th>ama_title</th>\n",
       "      <th>time</th>\n",
       "      <th>num_comments</th>\n",
       "      <th>num_upvotes</th>\n",
       "      <th>upvote_ratio</th>\n",
       "      <th>link_flair</th>\n",
       "      <th>redditor</th>\n",
       "    </tr>\n",
       "  </thead>\n",
       "  <tbody>\n",
       "    <tr>\n",
       "      <th>72</th>\n",
       "      <td>I made a free alternative to Photoshop, that i...</td>\n",
       "      <td>1.541533e+09</td>\n",
       "      <td>2265</td>\n",
       "      <td>42883</td>\n",
       "      <td>0.92</td>\n",
       "      <td>Technology</td>\n",
       "      <td>ivanhoe90</td>\n",
       "    </tr>\n",
       "    <tr>\n",
       "      <th>143</th>\n",
       "      <td>We're scientists on the NASA New Horizons team...</td>\n",
       "      <td>1.436890e+09</td>\n",
       "      <td>4856</td>\n",
       "      <td>30756</td>\n",
       "      <td>0.92</td>\n",
       "      <td>Science</td>\n",
       "      <td>NewHorizons_Pluto</td>\n",
       "    </tr>\n",
       "    <tr>\n",
       "      <th>57</th>\n",
       "      <td>We're NASA Mars scientists. Ask us anything ab...</td>\n",
       "      <td>1.443461e+09</td>\n",
       "      <td>7362</td>\n",
       "      <td>48149</td>\n",
       "      <td>0.91</td>\n",
       "      <td>Science</td>\n",
       "      <td>NASAJPL</td>\n",
       "    </tr>\n",
       "    <tr>\n",
       "      <th>126</th>\n",
       "      <td>CISA, a privacy-invasive \"cybersecurity\" surve...</td>\n",
       "      <td>1.438179e+09</td>\n",
       "      <td>901</td>\n",
       "      <td>33443</td>\n",
       "      <td>0.91</td>\n",
       "      <td>Technology</td>\n",
       "      <td>JaycoxEFF</td>\n",
       "    </tr>\n",
       "    <tr>\n",
       "      <th>148</th>\n",
       "      <td>I am Eric Idle-- Monty Python founding member,...</td>\n",
       "      <td>1.544723e+09</td>\n",
       "      <td>2442</td>\n",
       "      <td>30074</td>\n",
       "      <td>0.91</td>\n",
       "      <td>Actor / Entertainer</td>\n",
       "      <td>MrEricIdle</td>\n",
       "    </tr>\n",
       "  </tbody>\n",
       "</table>\n",
       "</div>"
      ],
      "text/plain": [
       "                                             ama_title          time  \\\n",
       "72   I made a free alternative to Photoshop, that i...  1.541533e+09   \n",
       "143  We're scientists on the NASA New Horizons team...  1.436890e+09   \n",
       "57   We're NASA Mars scientists. Ask us anything ab...  1.443461e+09   \n",
       "126  CISA, a privacy-invasive \"cybersecurity\" surve...  1.438179e+09   \n",
       "148  I am Eric Idle-- Monty Python founding member,...  1.544723e+09   \n",
       "\n",
       "     num_comments  num_upvotes  upvote_ratio           link_flair  \\\n",
       "72           2265        42883          0.92           Technology   \n",
       "143          4856        30756          0.92              Science   \n",
       "57           7362        48149          0.91              Science   \n",
       "126           901        33443          0.91           Technology   \n",
       "148          2442        30074          0.91  Actor / Entertainer   \n",
       "\n",
       "              redditor  \n",
       "72           ivanhoe90  \n",
       "143  NewHorizons_Pluto  \n",
       "57             NASAJPL  \n",
       "126          JaycoxEFF  \n",
       "148         MrEricIdle  "
      ]
     },
     "execution_count": 238,
     "metadata": {},
     "output_type": "execute_result"
    }
   ],
   "source": [
    "ama_df.head()"
   ]
  },
  {
   "cell_type": "code",
   "execution_count": 239,
   "metadata": {},
   "outputs": [],
   "source": [
    "ama_topic_avg_df = ama_df.groupby(['link_flair']).mean().reset_index()"
   ]
  },
  {
   "cell_type": "code",
   "execution_count": 240,
   "metadata": {},
   "outputs": [],
   "source": [
    "ama_topic_avg_df = ama_topic_avg_df.sort_values(by=['num_comments'],ascending=False)"
   ]
  },
  {
   "cell_type": "code",
   "execution_count": 241,
   "metadata": {},
   "outputs": [],
   "source": [
    "ama_topic_avg_df = ama_topic_avg_df.drop(index=0)"
   ]
  },
  {
   "cell_type": "code",
   "execution_count": 242,
   "metadata": {
    "scrolled": false
   },
   "outputs": [
    {
     "data": {
      "image/png": "[encoded data removed]",
      "text/plain": [
       "<Figure size 1008x360 with 1 Axes>"
      ]
     },
     "metadata": {},
     "output_type": "display_data"
    }
   ],
   "source": [
    "sns.set(rc={'figure.figsize':(14,5)})\n",
    "\n",
    "ax = sns.barplot(y=ama_topic_avg_df['num_comments'], x=ama_topic_avg_df['link_flair'][:10], data=ama_topic_avg_df, \n",
    "                 palette=\"Blues_d\").set_title('Most Commented AMA Topics');\n",
    "#ax.set(ylim=(0.8, 1))\n",
    "plt.xticks(rotation=45);"
   ]
  },
  {
   "cell_type": "code",
   "execution_count": 243,
   "metadata": {},
   "outputs": [],
   "source": [
    "ama_topic_avg_df = ama_topic_avg_df.sort_values(by=['num_upvotes'],ascending=False)"
   ]
  },
  {
   "cell_type": "code",
   "execution_count": 244,
   "metadata": {},
   "outputs": [
    {
     "data": {
      "image/png": "[encoded data removed]",
      "text/plain": [
       "<Figure size 1008x360 with 1 Axes>"
      ]
     },
     "metadata": {},
     "output_type": "display_data"
    }
   ],
   "source": [
    "sns.set(rc={'figure.figsize':(14,5)})\n",
    "\n",
    "ax = sns.barplot(y=ama_topic_avg_df['num_upvotes'], x=ama_topic_avg_df['link_flair'][:10], data=ama_topic_avg_df, \n",
    "                 palette=\"Blues_d\").set_title('Most Upvoted AMA Topics');\n",
    "#ax.set(ylim=(0.8, 1))\n",
    "plt.xticks(rotation=45);"
   ]
  },
  {
   "cell_type": "code",
   "execution_count": 245,
   "metadata": {},
   "outputs": [],
   "source": [
    "ama_topic_avg_df = ama_topic_avg_df.sort_values(by=['upvote_ratio'],ascending=False)"
   ]
  },
  {
   "cell_type": "code",
   "execution_count": 246,
   "metadata": {},
   "outputs": [
    {
     "data": {
      "image/png": "[encoded data removed]",
      "text/plain": [
       "<Figure size 1008x360 with 1 Axes>"
      ]
     },
     "metadata": {},
     "output_type": "display_data"
    }
   ],
   "source": [
    "sns.set(rc={'figure.figsize':(14,5)})\n",
    "\n",
    "ax = sns.barplot(y=ama_topic_avg_df['upvote_ratio'], x=ama_topic_avg_df['link_flair'][:10], data=ama_topic_avg_df, \n",
    "                 palette=\"Blues_d\").set_title('Most Positive AMA Topics');\n",
    "#ax.set(ylim=(0.8, 1))\n",
    "plt.xticks(rotation=45);"
   ]
  },
  {
   "cell_type": "code",
   "execution_count": 251,
   "metadata": {},
   "outputs": [
    {
     "data": {
      "text/html": [
       "<div>\n",
       "<style scoped>\n",
       "    .dataframe tbody tr th:only-of-type {\n",
       "        vertical-align: middle;\n",
       "    }\n",
       "\n",
       "    .dataframe tbody tr th {\n",
       "        vertical-align: top;\n",
       "    }\n",
       "\n",
       "    .dataframe thead th {\n",
       "        text-align: right;\n",
       "    }\n",
       "</style>\n",
       "<table border=\"1\" class=\"dataframe\">\n",
       "  <thead>\n",
       "    <tr style=\"text-align: right;\">\n",
       "      <th></th>\n",
       "      <th>ama_title</th>\n",
       "      <th>time</th>\n",
       "      <th>num_comments</th>\n",
       "      <th>num_upvotes</th>\n",
       "      <th>upvote_ratio</th>\n",
       "      <th>link_flair</th>\n",
       "      <th>redditor</th>\n",
       "    </tr>\n",
       "  </thead>\n",
       "  <tbody>\n",
       "    <tr>\n",
       "      <th>99</th>\n",
       "      <td>Idaho passed an Ag-Gag law that made it a crim...</td>\n",
       "      <td>1.438714e+09</td>\n",
       "      <td>2746</td>\n",
       "      <td>36752</td>\n",
       "      <td>0.88</td>\n",
       "      <td>Crime / Justice</td>\n",
       "      <td>MatthewALDF</td>\n",
       "    </tr>\n",
       "    <tr>\n",
       "      <th>110</th>\n",
       "      <td>Hi Reddit - I am Christopher Darden, Prosecuto...</td>\n",
       "      <td>1.500768e+09</td>\n",
       "      <td>5126</td>\n",
       "      <td>35300</td>\n",
       "      <td>0.84</td>\n",
       "      <td>Crime / Justice</td>\n",
       "      <td>Christopher_Darden</td>\n",
       "    </tr>\n",
       "  </tbody>\n",
       "</table>\n",
       "</div>"
      ],
      "text/plain": [
       "                                             ama_title          time  \\\n",
       "99   Idaho passed an Ag-Gag law that made it a crim...  1.438714e+09   \n",
       "110  Hi Reddit - I am Christopher Darden, Prosecuto...  1.500768e+09   \n",
       "\n",
       "     num_comments  num_upvotes  upvote_ratio       link_flair  \\\n",
       "99           2746        36752          0.88  Crime / Justice   \n",
       "110          5126        35300          0.84  Crime / Justice   \n",
       "\n",
       "               redditor  \n",
       "99          MatthewALDF  \n",
       "110  Christopher_Darden  "
      ]
     },
     "execution_count": 251,
     "metadata": {},
     "output_type": "execute_result"
    }
   ],
   "source": [
    "ama_df[ama_df['link_flair'] == 'Crime / Justice']"
   ]
  },
  {
   "cell_type": "code",
   "execution_count": 252,
   "metadata": {},
   "outputs": [
    {
     "data": {
      "text/html": [
       "<div>\n",
       "<style scoped>\n",
       "    .dataframe tbody tr th:only-of-type {\n",
       "        vertical-align: middle;\n",
       "    }\n",
       "\n",
       "    .dataframe tbody tr th {\n",
       "        vertical-align: top;\n",
       "    }\n",
       "\n",
       "    .dataframe thead th {\n",
       "        text-align: right;\n",
       "    }\n",
       "</style>\n",
       "<table border=\"1\" class=\"dataframe\">\n",
       "  <thead>\n",
       "    <tr style=\"text-align: right;\">\n",
       "      <th></th>\n",
       "      <th>ama_title</th>\n",
       "      <th>time</th>\n",
       "      <th>num_comments</th>\n",
       "      <th>num_upvotes</th>\n",
       "      <th>upvote_ratio</th>\n",
       "      <th>link_flair</th>\n",
       "      <th>redditor</th>\n",
       "    </tr>\n",
       "  </thead>\n",
       "  <tbody>\n",
       "    <tr>\n",
       "      <th>22</th>\n",
       "      <td>\"Rowdy\" Ronda Rousey here, AMA!</td>\n",
       "      <td>1.439250e+09</td>\n",
       "      <td>15631</td>\n",
       "      <td>68819</td>\n",
       "      <td>0.82</td>\n",
       "      <td>Athlete</td>\n",
       "      <td>ronda_rousey87</td>\n",
       "    </tr>\n",
       "    <tr>\n",
       "      <th>174</th>\n",
       "      <td>Hi Reddit, I am an Olympian who attend PyeongC...</td>\n",
       "      <td>1.520097e+09</td>\n",
       "      <td>7229</td>\n",
       "      <td>28112</td>\n",
       "      <td>0.82</td>\n",
       "      <td>Athlete</td>\n",
       "      <td>TheSecretOLY</td>\n",
       "    </tr>\n",
       "  </tbody>\n",
       "</table>\n",
       "</div>"
      ],
      "text/plain": [
       "                                             ama_title          time  \\\n",
       "22                     \"Rowdy\" Ronda Rousey here, AMA!  1.439250e+09   \n",
       "174  Hi Reddit, I am an Olympian who attend PyeongC...  1.520097e+09   \n",
       "\n",
       "     num_comments  num_upvotes  upvote_ratio link_flair        redditor  \n",
       "22          15631        68819          0.82    Athlete  ronda_rousey87  \n",
       "174          7229        28112          0.82    Athlete    TheSecretOLY  "
      ]
     },
     "execution_count": 252,
     "metadata": {},
     "output_type": "execute_result"
    }
   ],
   "source": [
    "ama_df[ama_df['link_flair'] == 'Athlete']"
   ]
  },
  {
   "cell_type": "code",
   "execution_count": 253,
   "metadata": {},
   "outputs": [
    {
     "data": {
      "text/html": [
       "<div>\n",
       "<style scoped>\n",
       "    .dataframe tbody tr th:only-of-type {\n",
       "        vertical-align: middle;\n",
       "    }\n",
       "\n",
       "    .dataframe tbody tr th {\n",
       "        vertical-align: top;\n",
       "    }\n",
       "\n",
       "    .dataframe thead th {\n",
       "        text-align: right;\n",
       "    }\n",
       "</style>\n",
       "<table border=\"1\" class=\"dataframe\">\n",
       "  <thead>\n",
       "    <tr style=\"text-align: right;\">\n",
       "      <th></th>\n",
       "      <th>ama_title</th>\n",
       "      <th>time</th>\n",
       "      <th>num_comments</th>\n",
       "      <th>num_upvotes</th>\n",
       "      <th>upvote_ratio</th>\n",
       "      <th>link_flair</th>\n",
       "      <th>redditor</th>\n",
       "    </tr>\n",
       "  </thead>\n",
       "  <tbody>\n",
       "    <tr>\n",
       "      <th>36</th>\n",
       "      <td>Hi Reddit, I’m Bill Gates and I’m back for my ...</td>\n",
       "      <td>1.422469e+09</td>\n",
       "      <td>13622</td>\n",
       "      <td>55731</td>\n",
       "      <td>0.86</td>\n",
       "      <td>Nonprofit</td>\n",
       "      <td>thisisbillgates</td>\n",
       "    </tr>\n",
       "    <tr>\n",
       "      <th>112</th>\n",
       "      <td>Just days left to kill mass surveillance under...</td>\n",
       "      <td>1.432227e+09</td>\n",
       "      <td>2107</td>\n",
       "      <td>35123</td>\n",
       "      <td>0.85</td>\n",
       "      <td>Nonprofit</td>\n",
       "      <td>aclu</td>\n",
       "    </tr>\n",
       "    <tr>\n",
       "      <th>6</th>\n",
       "      <td>I’m Bill Gates, co-chair of the Bill &amp; Melinda...</td>\n",
       "      <td>1.519757e+09</td>\n",
       "      <td>19478</td>\n",
       "      <td>105334</td>\n",
       "      <td>0.85</td>\n",
       "      <td>Nonprofit</td>\n",
       "      <td>thisisbillgates</td>\n",
       "    </tr>\n",
       "    <tr>\n",
       "      <th>8</th>\n",
       "      <td>I’m Bill Gates, co-chair of the Bill &amp; Melinda...</td>\n",
       "      <td>1.488213e+09</td>\n",
       "      <td>16625</td>\n",
       "      <td>97549</td>\n",
       "      <td>0.85</td>\n",
       "      <td>Nonprofit</td>\n",
       "      <td>thisisbillgates</td>\n",
       "    </tr>\n",
       "    <tr>\n",
       "      <th>139</th>\n",
       "      <td>We are chemical weapons attack survivors. Now,...</td>\n",
       "      <td>1.521128e+09</td>\n",
       "      <td>1151</td>\n",
       "      <td>31329</td>\n",
       "      <td>0.81</td>\n",
       "      <td>Nonprofit</td>\n",
       "      <td>HalabjaJustice</td>\n",
       "    </tr>\n",
       "    <tr>\n",
       "      <th>3</th>\n",
       "      <td>FCC just voted to kill Net Neutrality. Now we ...</td>\n",
       "      <td>1.513275e+09</td>\n",
       "      <td>2655</td>\n",
       "      <td>121800</td>\n",
       "      <td>0.79</td>\n",
       "      <td>Nonprofit</td>\n",
       "      <td>FPGauravLaroia</td>\n",
       "    </tr>\n",
       "    <tr>\n",
       "      <th>5</th>\n",
       "      <td>I’m Bill Gates, co-chair of the Bill &amp; Melinda...</td>\n",
       "      <td>1.551116e+09</td>\n",
       "      <td>19904</td>\n",
       "      <td>108656</td>\n",
       "      <td>0.78</td>\n",
       "      <td>Nonprofit</td>\n",
       "      <td>thisisbillgates</td>\n",
       "    </tr>\n",
       "    <tr>\n",
       "      <th>173</th>\n",
       "      <td>I lost my daughter to a terminal illness when ...</td>\n",
       "      <td>1.513435e+09</td>\n",
       "      <td>668</td>\n",
       "      <td>28145</td>\n",
       "      <td>0.76</td>\n",
       "      <td>Nonprofit</td>\n",
       "      <td>ashleyLNL</td>\n",
       "    </tr>\n",
       "    <tr>\n",
       "      <th>28</th>\n",
       "      <td>We are the ACLU. Ask Us Anything about net neu...</td>\n",
       "      <td>1.499881e+09</td>\n",
       "      <td>5421</td>\n",
       "      <td>65094</td>\n",
       "      <td>0.76</td>\n",
       "      <td>Nonprofit</td>\n",
       "      <td>aclu</td>\n",
       "    </tr>\n",
       "  </tbody>\n",
       "</table>\n",
       "</div>"
      ],
      "text/plain": [
       "                                             ama_title          time  \\\n",
       "36   Hi Reddit, I’m Bill Gates and I’m back for my ...  1.422469e+09   \n",
       "112  Just days left to kill mass surveillance under...  1.432227e+09   \n",
       "6    I’m Bill Gates, co-chair of the Bill & Melinda...  1.519757e+09   \n",
       "8    I’m Bill Gates, co-chair of the Bill & Melinda...  1.488213e+09   \n",
       "139  We are chemical weapons attack survivors. Now,...  1.521128e+09   \n",
       "3    FCC just voted to kill Net Neutrality. Now we ...  1.513275e+09   \n",
       "5    I’m Bill Gates, co-chair of the Bill & Melinda...  1.551116e+09   \n",
       "173  I lost my daughter to a terminal illness when ...  1.513435e+09   \n",
       "28   We are the ACLU. Ask Us Anything about net neu...  1.499881e+09   \n",
       "\n",
       "     num_comments  num_upvotes  upvote_ratio link_flair         redditor  \n",
       "36          13622        55731          0.86  Nonprofit  thisisbillgates  \n",
       "112          2107        35123          0.85  Nonprofit             aclu  \n",
       "6           19478       105334          0.85  Nonprofit  thisisbillgates  \n",
       "8           16625        97549          0.85  Nonprofit  thisisbillgates  \n",
       "139          1151        31329          0.81  Nonprofit   HalabjaJustice  \n",
       "3            2655       121800          0.79  Nonprofit   FPGauravLaroia  \n",
       "5           19904       108656          0.78  Nonprofit  thisisbillgates  \n",
       "173           668        28145          0.76  Nonprofit        ashleyLNL  \n",
       "28           5421        65094          0.76  Nonprofit             aclu  "
      ]
     },
     "execution_count": 253,
     "metadata": {},
     "output_type": "execute_result"
    }
   ],
   "source": [
    "ama_df[ama_df['link_flair'] == 'Nonprofit']"
   ]
  },
  {
   "cell_type": "code",
   "execution_count": 254,
   "metadata": {},
   "outputs": [
    {
     "data": {
      "text/html": [
       "<div>\n",
       "<style scoped>\n",
       "    .dataframe tbody tr th:only-of-type {\n",
       "        vertical-align: middle;\n",
       "    }\n",
       "\n",
       "    .dataframe tbody tr th {\n",
       "        vertical-align: top;\n",
       "    }\n",
       "\n",
       "    .dataframe thead th {\n",
       "        text-align: right;\n",
       "    }\n",
       "</style>\n",
       "<table border=\"1\" class=\"dataframe\">\n",
       "  <thead>\n",
       "    <tr style=\"text-align: right;\">\n",
       "      <th></th>\n",
       "      <th>ama_title</th>\n",
       "      <th>time</th>\n",
       "      <th>num_comments</th>\n",
       "      <th>num_upvotes</th>\n",
       "      <th>upvote_ratio</th>\n",
       "      <th>link_flair</th>\n",
       "      <th>redditor</th>\n",
       "    </tr>\n",
       "  </thead>\n",
       "  <tbody>\n",
       "    <tr>\n",
       "      <th>12</th>\n",
       "      <td>I'm the Monopoly Man that trolled Equifax -- AMA!</td>\n",
       "      <td>1.507300e+09</td>\n",
       "      <td>5796</td>\n",
       "      <td>80418</td>\n",
       "      <td>0.79</td>\n",
       "      <td>Newsworthy Event</td>\n",
       "      <td>wamandajd</td>\n",
       "    </tr>\n",
       "    <tr>\n",
       "      <th>55</th>\n",
       "      <td>I'm Sid Fischer, a student who was in the thir...</td>\n",
       "      <td>1.518797e+09</td>\n",
       "      <td>8868</td>\n",
       "      <td>48279</td>\n",
       "      <td>0.73</td>\n",
       "      <td>Newsworthy Event</td>\n",
       "      <td>sidTHAkid</td>\n",
       "    </tr>\n",
       "  </tbody>\n",
       "</table>\n",
       "</div>"
      ],
      "text/plain": [
       "                                            ama_title          time  \\\n",
       "12  I'm the Monopoly Man that trolled Equifax -- AMA!  1.507300e+09   \n",
       "55  I'm Sid Fischer, a student who was in the thir...  1.518797e+09   \n",
       "\n",
       "    num_comments  num_upvotes  upvote_ratio        link_flair   redditor  \n",
       "12          5796        80418          0.79  Newsworthy Event  wamandajd  \n",
       "55          8868        48279          0.73  Newsworthy Event  sidTHAkid  "
      ]
     },
     "execution_count": 254,
     "metadata": {},
     "output_type": "execute_result"
    }
   ],
   "source": [
    "ama_df[ama_df['link_flair'] == 'Newsworthy Event']"
   ]
  },
  {
   "cell_type": "code",
   "execution_count": 255,
   "metadata": {},
   "outputs": [
    {
     "data": {
      "text/html": [
       "<div>\n",
       "<style scoped>\n",
       "    .dataframe tbody tr th:only-of-type {\n",
       "        vertical-align: middle;\n",
       "    }\n",
       "\n",
       "    .dataframe tbody tr th {\n",
       "        vertical-align: top;\n",
       "    }\n",
       "\n",
       "    .dataframe thead th {\n",
       "        text-align: right;\n",
       "    }\n",
       "</style>\n",
       "<table border=\"1\" class=\"dataframe\">\n",
       "  <thead>\n",
       "    <tr style=\"text-align: right;\">\n",
       "      <th></th>\n",
       "      <th>ama_title</th>\n",
       "      <th>time</th>\n",
       "      <th>num_comments</th>\n",
       "      <th>num_upvotes</th>\n",
       "      <th>upvote_ratio</th>\n",
       "      <th>link_flair</th>\n",
       "      <th>redditor</th>\n",
       "    </tr>\n",
       "  </thead>\n",
       "  <tbody>\n",
       "    <tr>\n",
       "      <th>147</th>\n",
       "      <td>IamA Guy Who Setup a Low-Latency Rural Wireles...</td>\n",
       "      <td>1.511381e+09</td>\n",
       "      <td>2249</td>\n",
       "      <td>30123</td>\n",
       "      <td>0.89</td>\n",
       "      <td>Business</td>\n",
       "      <td>Michamus</td>\n",
       "    </tr>\n",
       "    <tr>\n",
       "      <th>50</th>\n",
       "      <td>United Airlines sued me last year for creating...</td>\n",
       "      <td>1.448926e+09</td>\n",
       "      <td>3576</td>\n",
       "      <td>50427</td>\n",
       "      <td>0.89</td>\n",
       "      <td>Business</td>\n",
       "      <td>skiplagged</td>\n",
       "    </tr>\n",
       "    <tr>\n",
       "      <th>26</th>\n",
       "      <td>I am Elon Musk, CEO/CTO of a rocket company, AMA!</td>\n",
       "      <td>1.420509e+09</td>\n",
       "      <td>10948</td>\n",
       "      <td>66703</td>\n",
       "      <td>0.88</td>\n",
       "      <td>Business</td>\n",
       "      <td>ElonMuskOfficial</td>\n",
       "    </tr>\n",
       "    <tr>\n",
       "      <th>109</th>\n",
       "      <td>2 years ago, I built a wild scavenger hunt dat...</td>\n",
       "      <td>1.518015e+09</td>\n",
       "      <td>1327</td>\n",
       "      <td>35434</td>\n",
       "      <td>0.84</td>\n",
       "      <td>Business</td>\n",
       "      <td>squeakysqueakysqueak</td>\n",
       "    </tr>\n",
       "    <tr>\n",
       "      <th>78</th>\n",
       "      <td>I am Steve Huffman, the new CEO of reddit. AMA.</td>\n",
       "      <td>1.436634e+09</td>\n",
       "      <td>12839</td>\n",
       "      <td>41367</td>\n",
       "      <td>0.83</td>\n",
       "      <td>Business</td>\n",
       "      <td>spez</td>\n",
       "    </tr>\n",
       "    <tr>\n",
       "      <th>77</th>\n",
       "      <td>18 months ago I didn’t know how to code, I’m n...</td>\n",
       "      <td>1.485180e+09</td>\n",
       "      <td>2941</td>\n",
       "      <td>41405</td>\n",
       "      <td>0.77</td>\n",
       "      <td>Business</td>\n",
       "      <td>D3FEATER</td>\n",
       "    </tr>\n",
       "  </tbody>\n",
       "</table>\n",
       "</div>"
      ],
      "text/plain": [
       "                                             ama_title          time  \\\n",
       "147  IamA Guy Who Setup a Low-Latency Rural Wireles...  1.511381e+09   \n",
       "50   United Airlines sued me last year for creating...  1.448926e+09   \n",
       "26   I am Elon Musk, CEO/CTO of a rocket company, AMA!  1.420509e+09   \n",
       "109  2 years ago, I built a wild scavenger hunt dat...  1.518015e+09   \n",
       "78     I am Steve Huffman, the new CEO of reddit. AMA.  1.436634e+09   \n",
       "77   18 months ago I didn’t know how to code, I’m n...  1.485180e+09   \n",
       "\n",
       "     num_comments  num_upvotes  upvote_ratio link_flair              redditor  \n",
       "147          2249        30123          0.89   Business              Michamus  \n",
       "50           3576        50427          0.89   Business            skiplagged  \n",
       "26          10948        66703          0.88   Business      ElonMuskOfficial  \n",
       "109          1327        35434          0.84   Business  squeakysqueakysqueak  \n",
       "78          12839        41367          0.83   Business                  spez  \n",
       "77           2941        41405          0.77   Business              D3FEATER  "
      ]
     },
     "execution_count": 255,
     "metadata": {},
     "output_type": "execute_result"
    }
   ],
   "source": [
    "ama_df[ama_df['link_flair'] == 'Business']"
   ]
  },
  {
   "cell_type": "code",
   "execution_count": 256,
   "metadata": {},
   "outputs": [
    {
     "data": {
      "text/html": [
       "<div>\n",
       "<style scoped>\n",
       "    .dataframe tbody tr th:only-of-type {\n",
       "        vertical-align: middle;\n",
       "    }\n",
       "\n",
       "    .dataframe tbody tr th {\n",
       "        vertical-align: top;\n",
       "    }\n",
       "\n",
       "    .dataframe thead th {\n",
       "        text-align: right;\n",
       "    }\n",
       "</style>\n",
       "<table border=\"1\" class=\"dataframe\">\n",
       "  <thead>\n",
       "    <tr style=\"text-align: right;\">\n",
       "      <th></th>\n",
       "      <th>ama_title</th>\n",
       "      <th>time</th>\n",
       "      <th>num_comments</th>\n",
       "      <th>num_upvotes</th>\n",
       "      <th>upvote_ratio</th>\n",
       "      <th>link_flair</th>\n",
       "      <th>redditor</th>\n",
       "    </tr>\n",
       "  </thead>\n",
       "  <tbody>\n",
       "    <tr>\n",
       "      <th>74</th>\n",
       "      <td>We are the team behind the Wendy’s Twitter acc...</td>\n",
       "      <td>1.513271e+09</td>\n",
       "      <td>8941</td>\n",
       "      <td>42068</td>\n",
       "      <td>0.75</td>\n",
       "      <td>Restaurant</td>\n",
       "      <td>wendys_irl</td>\n",
       "    </tr>\n",
       "  </tbody>\n",
       "</table>\n",
       "</div>"
      ],
      "text/plain": [
       "                                            ama_title          time  \\\n",
       "74  We are the team behind the Wendy’s Twitter acc...  1.513271e+09   \n",
       "\n",
       "    num_comments  num_upvotes  upvote_ratio  link_flair    redditor  \n",
       "74          8941        42068          0.75  Restaurant  wendys_irl  "
      ]
     },
     "execution_count": 256,
     "metadata": {},
     "output_type": "execute_result"
    }
   ],
   "source": [
    "ama_df[ama_df['link_flair'] == 'Restaurant']"
   ]
  },
  {
   "cell_type": "code",
   "execution_count": null,
   "metadata": {},
   "outputs": [],
   "source": []
  }
 ],
 "metadata": {
  "kernelspec": {
   "display_name": "learn-env",
   "language": "python",
   "name": "learn-env"
  },
  "language_info": {
   "codemirror_mode": {
    "name": "ipython",
    "version": 3
   },
   "file_extension": ".py",
   "mimetype": "text/x-python",
   "name": "python",
   "nbconvert_exporter": "python",
   "pygments_lexer": "ipython3",
   "version": "3.6.6"
  }
 },
 "nbformat": 4,
 "nbformat_minor": 2
}
